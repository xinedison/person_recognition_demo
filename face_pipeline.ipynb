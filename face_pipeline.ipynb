{
 "cells": [
  {
   "cell_type": "code",
   "execution_count": null,
   "id": "32a3d4a1",
   "metadata": {},
   "outputs": [],
   "source": [
    "import cv2\n",
    "import sys\n",
    "import os\n",
    "import numpy as np\n",
    "import logging\n",
    "import glob\n",
    "import insightface\n",
    "from insightface.app import FaceAnalysis\n",
    "from cpu_searcher import numpy_searcher\n",
    "import time\n",
    "import json\n",
    "\n",
    "#from PIL import ImageDraw,Image,ImageFont\n",
    "\n",
    "import matplotlib.pyplot as plt\n",
    "%matplotlib inline"
   ]
  },
  {
   "cell_type": "markdown",
   "id": "49d2ff96",
   "metadata": {},
   "source": [
    "# Get init db image"
   ]
  },
  {
   "cell_type": "code",
   "execution_count": null,
   "id": "84c1890d",
   "metadata": {},
   "outputs": [],
   "source": [
    "img_pathes = glob.glob(\"/home/avs/Codes/face_db/CBA辽宁/*/*.jpg\")\n",
    "img_pathes.extend(glob.glob(\"/home/avs/Codes/face_db/CBA辽宁/*/*.jpeg\"))"
   ]
  },
  {
   "cell_type": "code",
   "execution_count": null,
   "id": "996aa2e0",
   "metadata": {},
   "outputs": [],
   "source": [
    "def path_2_img_key(path):\n",
    "    img_name = os.path.basename(path)\n",
    "    politican_name = os.path.basename(os.path.dirname(path))\n",
    "    return '{}+{}'.format(politican_name, img_name)\n",
    "\n",
    "def read_image_to_data(image_path):\n",
    "    image_data = cv2.imread(image_path)\n",
    "    if image_data is None:\n",
    "        logging.error(\"== read invalid data \", image_path)\n",
    "        return\n",
    "    \n",
    "    image_data = cv2.cvtColor(image_data, cv2.COLOR_BGR2RGB)\n",
    "    return image_data\n",
    "\n",
    "def im_show(image):\n",
    "    plt.imshow(image)\n",
    "    plt.show()"
   ]
  },
  {
   "cell_type": "code",
   "execution_count": null,
   "id": "0b82ff41",
   "metadata": {},
   "outputs": [],
   "source": [
    "#img_keys = map(path_2_img_key, img_pathes)\n",
    "img_datas = list(map(read_image_to_data, img_pathes))"
   ]
  },
  {
   "cell_type": "markdown",
   "id": "01d65028",
   "metadata": {},
   "source": [
    "# Init face model and db"
   ]
  },
  {
   "cell_type": "code",
   "execution_count": null,
   "id": "ed5c6590",
   "metadata": {},
   "outputs": [],
   "source": [
    "def is_rectangle_cross(rect1, rect2):\n",
    "    x1 = max(rect1[0], rect2[0])\n",
    "    y1 = max(rect1[1], rect2[1])\n",
    "    x2 = min(rect1[2], rect2[2])\n",
    "    y2 = min(rect1[3], rect2[3])\n",
    "    if x1<x2 and y1<y2:\n",
    "        return True\n",
    "    else:\n",
    "        return False"
   ]
  },
  {
   "cell_type": "code",
   "execution_count": null,
   "id": "427fa6df",
   "metadata": {},
   "outputs": [],
   "source": [
    "app = FaceAnalysis()\n",
    "app.prepare(ctx_id=0, det_size=(640, 640))\n",
    "\n",
    "searcher = numpy_searcher(1000, 512)"
   ]
  },
  {
   "cell_type": "code",
   "execution_count": null,
   "id": "3257d20d",
   "metadata": {
    "scrolled": true
   },
   "outputs": [],
   "source": [
    "def load_label(json_path):\n",
    "    label_faces = []\n",
    "    with open(json_path, 'r') as fin:\n",
    "        labels = json.loads(fin.read())\n",
    "        for label in labels['shapes']:\n",
    "            if label['label'] == 'face':\n",
    "                label_faces.append((label['points'], label['group_id']))\n",
    "    return label_faces\n",
    "\n",
    "def load_real_db():\n",
    "    test_json_pathes = glob.glob(\"/home/avs/Downloads/CBA辽宁_facedb/*.json\")\n",
    "    for test_json in test_json_pathes:\n",
    "        test_image_path = test_json[:-4]+'jpg'\n",
    "        if not os.path.exists(test_image_path):\n",
    "            test_image_path = test_json[:-4]+'png'\n",
    "        print(\"== read test \", test_image_path)\n",
    "        test_image = cv2.imread(test_image_path)\n",
    "        img_name = os.path.basename(test_image_path)\n",
    "        faces = app.get(test_image)\n",
    "        label_faces = load_label(test_json)\n",
    "        for face in faces:\n",
    "            for label_face in label_faces:\n",
    "                label_box, player_num = label_face\n",
    "                label_box = np.array(label_box).flatten()\n",
    "                if is_rectangle_cross(face['bbox'], label_box):\n",
    "                    feat = face.normed_embedding.tolist()\n",
    "                    key = '{}_{}+{}'.format(player_num, img_name, img_name)\n",
    "                    #print(\"== update player \", player_num)\n",
    "                    searcher.update(key, feat)"
   ]
  },
  {
   "cell_type": "code",
   "execution_count": null,
   "id": "21fcdda0",
   "metadata": {},
   "outputs": [],
   "source": [
    "def load_db_image(img_datas, img_pathes, searcher, app):\n",
    "    for img_data,img_path in zip(img_datas, img_pathes):\n",
    "        faces = app.get(img_data)\n",
    "        label_path = img_path.split('.')[0]+'.json'\n",
    "        label_faces = load_label(label_path)\n",
    "        img_name = os.path.basename(img_path)\n",
    "        for face in faces:\n",
    "            for label_face in label_faces:\n",
    "                label_box, player_num = label_face\n",
    "                label_box = np.array(label_box).flatten()\n",
    "                if is_rectangle_cross(face['bbox'], label_box):\n",
    "                    print(\"== update \", player_num, ' ', img_name)\n",
    "                    feat = face.normed_embedding.tolist()\n",
    "                    key = '{}_{}+{}'.format(player_num, img_name, img_name)\n",
    "                    searcher.update(key, feat)\n",
    "#         if len(faces) != 1:\n",
    "#             print(\"==invalid len {} for image {}\".format(len(faces), img_key))\n",
    "#             continue\n",
    "#         else:\n",
    "#             feat = faces[0].normed_embedding.tolist()\n",
    "#             searcher.update(img_key, feat)\n",
    "load_db_image(img_datas, img_pathes, searcher, app)"
   ]
  },
  {
   "cell_type": "markdown",
   "id": "148d57d2",
   "metadata": {},
   "source": [
    "# Get test image and search db"
   ]
  },
  {
   "cell_type": "code",
   "execution_count": null,
   "id": "1476d48b",
   "metadata": {},
   "outputs": [],
   "source": [
    "test_images = glob.glob(\"/home/avs/Codes/face_db/CBA广东东莞/*/*.png\")\n",
    "\n",
    "test_image_datas = list(map(read_image_to_data, test_images))"
   ]
  },
  {
   "cell_type": "code",
   "execution_count": null,
   "id": "e0081f72",
   "metadata": {
    "scrolled": false
   },
   "outputs": [],
   "source": [
    "def search_image(test_image_data, threshold=0.55):\n",
    "    out_image = test_image_data.copy()\n",
    "    faces = app.get(test_image_data)\n",
    "    test_feats = []\n",
    "    searched_faces = []\n",
    "    for face in faces:\n",
    "        #print(face['bbox'])\n",
    "        test_feat = face.normed_embedding.tolist()\n",
    "        test_feats.append(test_feat)\n",
    "    if len(test_feats) == 0:\n",
    "        print(\"empty image\")\n",
    "        return (out_image, searched_faces)\n",
    "    test_feats = np.array(test_feats)\n",
    "    #print('== test path {} with {} face'.format(test_path, len(faces)))\n",
    "    topk_keys = searcher.topk(test_feats, topk=1)\n",
    "    #print(\"== topk keys \", topk_keys)\n",
    "    \n",
    "#     if (isinstance(out_image, np.ndarray)):\n",
    "#         out_image = Image.fromarray(out_image)\n",
    "    \n",
    "    for face_result, face in zip(topk_keys, faces):\n",
    "        #print(\"== face topk \", face_result)\n",
    "        searched_key, score = face_result[0]\n",
    "        #print(\"== search result \", face_result)\n",
    "        searched_name_num = searched_key.split('+')[0]\n",
    "        #print(\"== similar name {} and score {}\".format(searched_name_num, score))\n",
    "        searched_name = searched_name_num.split('_')[0]\n",
    "        #print(\"face_point \", face['bbox'])\n",
    "        x1, y1, x2, y2 = face['bbox']\n",
    "        \n",
    "        if score>= threshold:\n",
    "            print(\"== searched \", searched_name, \" \", score)\n",
    "            font = cv2.FONT_HERSHEY_SIMPLEX\n",
    "            cv2.rectangle(out_image, (int(x1),int(y1)), (int(x2),int(y2)), (0,255,0) , 1)\n",
    "            #cv2.putText(out_image, str(searched_name)+'_'+str(score), (int(x1-10),int(y1-10)), font, 1, (255,0,0), 3)\n",
    "            cv2.putText(out_image, str(searched_name), (int(x1-10),int(y1-10)), font, 1, (255,0,0), 3)\n",
    "            searched_faces.append([x1, y1, x2, y2, searched_name, score])\n",
    "#             draw = ImageDraw.Draw(out_image)\n",
    "#             fontText = ImageFont.truetype(\"/usr/share/fonts/truetype/freefont/FreeMono.ttf\", 20, encoding=\"utf-8\")\n",
    "#             draw.text((int(x1-10), int(y1-10)), searched_name, (255, 0, 0), font=fontText)\n",
    "            \n",
    "            \n",
    "    return (out_image, searched_faces)\n",
    "    #out_image = app.draw_on(test_image_data, faces)\n",
    "    #im_show(out_image)\n",
    "    \n",
    "# for test_image_data, test_path in zip(test_image_datas, test_images):\n",
    "#     out_show = searched_image(test_image_data)\n",
    "#     im_show(out_show)"
   ]
  },
  {
   "cell_type": "code",
   "execution_count": null,
   "id": "e28ce101",
   "metadata": {
    "scrolled": true
   },
   "outputs": [],
   "source": [
    "#in_video = '/home/avs/Codes/face_recognition/datas/recog/playerNum_LNBGvsZJCZ_615.ts'\n",
    "in_video = '/home/avs/Downloads/LNBGvsZJCZ_615.ts'\n",
    "basename = os.path.basename(in_video)\n",
    "output_video = os.path.join('./datas/recog', '{}_{}'.format('faceid', basename))\n",
    "\n",
    "output_csv = os.path.join('./datas/recog', '{}_{}.txt'.format('faceid', basename))\n",
    "\n",
    "\n",
    "reader = cv2.VideoCapture(in_video)\n",
    "#writer = cv2.VideoWriter(output_video, cv2.VideoWriter_fourcc(*\"mp4v\"),30, (1920, 1080))\n",
    "\n",
    "fout = open(output_csv, 'w')\n",
    "\n",
    "more = True\n",
    "frame_id = -1\n",
    "interval = 50\n",
    "tic = time.time()\n",
    "while more:\n",
    "    more, frame = reader.read()\n",
    "    if frame is not None:\n",
    "        frame_id += 1\n",
    "        searched_out, searched_faces = search_image(frame, 0.55)\n",
    "        for search_face in searched_faces:\n",
    "            print(search_face)\n",
    "            face_out = ','.join(map(str, search_face))\n",
    "            line = '{},{}\\n'.format(frame_id, face_out)\n",
    "            fout.write(line)\n",
    "        if frame_id % interval == 0:\n",
    "            toc = time.time()\n",
    "            print(\"== frames speed\",interval/(toc-tic))\n",
    "            tic = time.time()\n",
    "            print(frame_id)\n",
    "        #writer.write(searched_out)\n",
    "reader.release()\n",
    "#writer.release()\n",
    "fout.close()"
   ]
  },
  {
   "cell_type": "code",
   "execution_count": null,
   "id": "bf3382e6",
   "metadata": {},
   "outputs": [],
   "source": []
  }
 ],
 "metadata": {
  "kernelspec": {
   "display_name": "Python 3 (ipykernel)",
   "language": "python",
   "name": "python3"
  },
  "language_info": {
   "codemirror_mode": {
    "name": "ipython",
    "version": 3
   },
   "file_extension": ".py",
   "mimetype": "text/x-python",
   "name": "python",
   "nbconvert_exporter": "python",
   "pygments_lexer": "ipython3",
   "version": "3.10.9"
  }
 },
 "nbformat": 4,
 "nbformat_minor": 5
}
