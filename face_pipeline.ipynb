{
 "cells": [
  {
   "cell_type": "code",
   "execution_count": null,
   "id": "32a3d4a1",
   "metadata": {},
   "outputs": [],
   "source": [
    "import cv2\n",
    "import sys\n",
    "import os\n",
    "import numpy as np\n",
    "import logging\n",
    "import glob\n",
    "import insightface\n",
    "from insightface.app import FaceAnalysis\n",
    "from cpu_searcher import numpy_searcher\n",
    "\n",
    "import matplotlib.pyplot as plt\n",
    "%matplotlib inline"
   ]
  },
  {
   "cell_type": "markdown",
   "id": "09413c36",
   "metadata": {},
   "source": [
    "# Get init db image"
   ]
  },
  {
   "cell_type": "code",
   "execution_count": null,
   "id": "84c1890d",
   "metadata": {},
   "outputs": [],
   "source": [
    "img_pathes = glob.glob(\"/home/avs/Codes/face_db/CBA/*/*.jpg\")\n",
    "img_pathes.extend(glob.glob(\"/home/avs/Codes/face_db/CBA/*/*.jpeg\"))"
   ]
  },
  {
   "cell_type": "code",
   "execution_count": null,
   "id": "996aa2e0",
   "metadata": {},
   "outputs": [],
   "source": [
    "def path_2_img_key(path):\n",
    "    img_name = os.path.basename(path)\n",
    "    politican_name = os.path.basename(os.path.dirname(path))\n",
    "    return '{}+{}'.format(politican_name, img_name)\n",
    "\n",
    "def read_image_to_data(image_path):\n",
    "    image_data = cv2.imread(image_path)\n",
    "    if image_data is None:\n",
    "        logging.error(\"== read invalid data \", image_path)\n",
    "        return\n",
    "    \n",
    "    image_data = cv2.cvtColor(image_data, cv2.COLOR_BGR2RGB)\n",
    "    return image_data\n",
    "\n",
    "def im_show(image):\n",
    "    plt.imshow(image)\n",
    "    plt.show()"
   ]
  },
  {
   "cell_type": "code",
   "execution_count": null,
   "id": "0b82ff41",
   "metadata": {},
   "outputs": [],
   "source": [
    "img_keys = map(path_2_img_key, img_pathes)\n",
    "img_datas = list(map(read_image_to_data, img_pathes))"
   ]
  },
  {
   "cell_type": "markdown",
   "id": "69ba2e7b",
   "metadata": {},
   "source": [
    "# Init face model and db"
   ]
  },
  {
   "cell_type": "code",
   "execution_count": null,
   "id": "21fcdda0",
   "metadata": {},
   "outputs": [],
   "source": [
    "app = FaceAnalysis()\n",
    "app.prepare(ctx_id=0, det_size=(640, 640))\n",
    "\n",
    "searcher = numpy_searcher(1000, 512)\n",
    "for img_data,img_key in zip(img_datas, img_keys):\n",
    "    faces = app.get(img_data)\n",
    "    if len(faces) != 1:\n",
    "        print(\"==invalid len {} for image {}\".format(len(faces), img_key))\n",
    "        continue\n",
    "    else:\n",
    "        feat = faces[0].normed_embedding.tolist()\n",
    "        searcher.update(img_key, feat)\n",
    "    "
   ]
  },
  {
   "cell_type": "markdown",
   "id": "fadbdaf5",
   "metadata": {},
   "source": [
    "# Get test image and search db"
   ]
  },
  {
   "cell_type": "code",
   "execution_count": null,
   "id": "1476d48b",
   "metadata": {},
   "outputs": [],
   "source": [
    "test_images = glob.glob(\"/home/avs/Codes/face_db/CBA/*/*.png\")\n",
    "\n",
    "test_image_datas = list(map(read_image_to_data, test_images))"
   ]
  },
  {
   "cell_type": "code",
   "execution_count": null,
   "id": "e0081f72",
   "metadata": {},
   "outputs": [],
   "source": [
    "for test_image_data, test_path in zip(test_image_datas, test_images):\n",
    "    faces = app.get(test_image_data)\n",
    "    test_feats = []\n",
    "    for face in faces:\n",
    "        print(face['bbox'])\n",
    "        test_feat = face.normed_embedding.tolist()\n",
    "        test_feats.append(test_feat)\n",
    "    test_feats = np.array(test_feats)\n",
    "    print('== test path {} with {} face'.format(test_path, len(faces)))\n",
    "    topk_keys = searcher.topk(test_feats, topk=1)\n",
    "    #print(\"== topk keys \", topk_keys)\n",
    "    for face_result in topk_keys:\n",
    "        searched_key, score = face_result[0]\n",
    "        #print(\"== search result \", face_result)\n",
    "        searched_name = searched_key.split('+')[0]\n",
    "        print(\"== similar name {} and score {}\".format(searched_name, score))\n",
    "        \n",
    "    out_image = app.draw_on(test_image_data, faces)\n",
    "    im_show(out_image)"
   ]
  },
  {
   "cell_type": "code",
   "execution_count": null,
   "id": "e28ce101",
   "metadata": {},
   "outputs": [],
   "source": []
  }
 ],
 "metadata": {
  "kernelspec": {
   "display_name": "Python 3 (ipykernel)",
   "language": "python",
   "name": "python3"
  },
  "language_info": {
   "codemirror_mode": {
    "name": "ipython",
    "version": 3
   },
   "file_extension": ".py",
   "mimetype": "text/x-python",
   "name": "python",
   "nbconvert_exporter": "python",
   "pygments_lexer": "ipython3",
   "version": "3.10.9"
  }
 },
 "nbformat": 4,
 "nbformat_minor": 5
}
