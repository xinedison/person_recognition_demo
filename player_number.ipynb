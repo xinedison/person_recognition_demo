{
 "cells": [
  {
   "cell_type": "code",
   "execution_count": null,
   "id": "c1129df2",
   "metadata": {},
   "outputs": [],
   "source": [
    "import cv2\n",
    "import sys\n",
    "import os\n",
    "import numpy as np\n",
    "import time\n",
    "import re\n",
    "import glob\n",
    "import insightface"
   ]
  },
  {
   "cell_type": "code",
   "execution_count": null,
   "id": "a3297145",
   "metadata": {},
   "outputs": [],
   "source": [
    "def init_detector():\n",
    "    detector = insightface.model_zoo.get_model('scrfd_person_2.5g.onnx', download=True)\n",
    "    detector.prepare(0, nms_thresh=0.5, input_size=(640, 640))\n",
    "    return detector\n",
    "detector = init_detector()"
   ]
  },
  {
   "cell_type": "code",
   "execution_count": null,
   "id": "f4edbc96",
   "metadata": {},
   "outputs": [],
   "source": [
    "sys.path.append(os.path.expanduser('~/Codes/PaddleOCR'))\n",
    "from paddleocr import PaddleOCR\n",
    "ocr_engine = PaddleOCR()"
   ]
  },
  {
   "cell_type": "code",
   "execution_count": null,
   "id": "b61ab7ca",
   "metadata": {},
   "outputs": [],
   "source": [
    "from clip_api import ClipDiscriminator\n",
    "clipDiscriminator = ClipDiscriminator([\"player wear white shirt\", \"other\"])"
   ]
  },
  {
   "cell_type": "code",
   "execution_count": null,
   "id": "1fffa929",
   "metadata": {
    "scrolled": false
   },
   "outputs": [],
   "source": [
    "def recog_image_number(image, only_detect=False):\n",
    "    bboxes, _ = detector.detect(image)\n",
    "    out_image = image.copy()\n",
    "\n",
    "    playernum_boxes = []\n",
    "    for bbox in bboxes:\n",
    "        x1, y1, x2, y2, _ = bbox\n",
    "        person = image[int(y1):int(y2), int(x1):int(x2), :]\n",
    "        shape = person.shape\n",
    "        \n",
    "        if shape[0]>0 and shape[1] > 0:\n",
    "            person_clothes_prob = clipDiscriminator.forward(person)[0]\n",
    "            if person_clothes_prob <= 0.6:\n",
    "                #print(\"T shirt color not match\")\n",
    "                continue\n",
    "\n",
    "            person = image[int(y1):int(y2), int(x1):int(x2), :].copy()\n",
    "            player_num = ''\n",
    "        #im_show(person)\n",
    "        \n",
    "        #print(\"== person shape\", person.shape)\n",
    "        \n",
    "            #cv2.rectangle(out_image, (int(x1),int(y1)), (int(x2),int(y2)), (0,255,0) , 1)\n",
    "            ocr_result = ocr_engine.ocr(person, cls=False)\n",
    "            for box_recog_text in ocr_result[0]:\n",
    "                box, recog_text = box_recog_text\n",
    "                y_ratio = box[0][1]/shape[0]\n",
    "                x_ratio = box[0][0]/shape[1]\n",
    "                if (y_ratio >= 0.2 and y_ratio <= 0.4) and \\\n",
    "                    (x_ratio >= 0.2 and x_ratio <= 0.4): # restrict player number position\n",
    "                    text = recog_text[0]\n",
    "                    number = re.findall(r'\\d+', text)\n",
    "                    if len(number) > 0:\n",
    "                        player_num = number[0]\n",
    "                        print(\"== recog player number \", player_num)\n",
    "                        if len(player_num) <= 2:\n",
    "                            font = cv2.FONT_HERSHEY_SIMPLEX\n",
    "                            cv2.rectangle(out_image, (int(x1),int(y1)), (int(x2),int(y2)), (0,255,0) , 1)\n",
    "                            cv2.putText(out_image, player_num, (int(x1-10),int(y1-10)), font, 2, (255,0,0), 3)\n",
    "                            playernum_boxes.append([x1, y1, x2, y2, player_num])\n",
    "                else:\n",
    "                    pass\n",
    "                    #print(\"= ignore ratio \", y_ratio, ',', x_ratio)\n",
    "    return out_image, playernum_boxes\n",
    "\n",
    "in_video = '/home/avs/Downloads/LNBGvsZJCZ_615.ts'\n",
    "basename = os.path.basename(in_video)\n",
    "output_video = os.path.join('./datas/recog', '{}_{}'.format('playerNum_white', basename))\n",
    "output_txt = os.path.join('./datas/recog', '{}_{}.txt'.format('playerNum_white', basename))\n",
    "\n",
    "reader = cv2.VideoCapture(in_video)\n",
    "#writer = cv2.VideoWriter(output_video, cv2.VideoWriter_fourcc(*\"mp4v\"),30, (1920, 1080))\n",
    "fout = open(output_txt, 'w')\n",
    "\n",
    "more = True\n",
    "frame_id = -1\n",
    "interval = 10\n",
    "tic = time.time()\n",
    "while more:\n",
    "    more, frame = reader.read()\n",
    "    if frame is not None:\n",
    "        frame_id += 1\n",
    "        searched_out, playernum_boxes = recog_image_number(frame)\n",
    "        for player_box in playernum_boxes:\n",
    "            player_out = ','.join(map(str, player_box))\n",
    "            line = '{},{}\\n'.format(frame_id, player_out)\n",
    "            fout.write(line)\n",
    "            \n",
    "        if frame_id % interval == 0:\n",
    "            toc = time.time()\n",
    "            print(\"== frames speed\",interval/(toc-tic))\n",
    "            tic = time.time()\n",
    "            print(frame_id)\n",
    "        #writer.write(searched_out)\n",
    "reader.release()\n",
    "#writer.release()\n",
    "fout.close()"
   ]
  },
  {
   "cell_type": "code",
   "execution_count": null,
   "id": "f1a80c5a",
   "metadata": {},
   "outputs": [],
   "source": []
  }
 ],
 "metadata": {
  "kernelspec": {
   "display_name": "Python 3 (ipykernel)",
   "language": "python",
   "name": "python3"
  },
  "language_info": {
   "codemirror_mode": {
    "name": "ipython",
    "version": 3
   },
   "file_extension": ".py",
   "mimetype": "text/x-python",
   "name": "python",
   "nbconvert_exporter": "python",
   "pygments_lexer": "ipython3",
   "version": "3.10.9"
  }
 },
 "nbformat": 4,
 "nbformat_minor": 5
}
