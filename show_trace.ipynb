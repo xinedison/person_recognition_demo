{
 "cells": [
  {
   "cell_type": "code",
   "execution_count": null,
   "id": "98c3ecd3",
   "metadata": {},
   "outputs": [],
   "source": [
    "import cv2\n",
    "import sys\n",
    "import os\n",
    "import numpy as np\n",
    "\n",
    "import matplotlib.pyplot as plt\n",
    "%matplotlib inline"
   ]
  },
  {
   "cell_type": "code",
   "execution_count": null,
   "id": "abce8286",
   "metadata": {
    "scrolled": false
   },
   "outputs": [],
   "source": [
    "def im_show(image):\n",
    "    plt.imshow(image)\n",
    "    plt.show()\n",
    "\n",
    "\n",
    "face_txt = 'datas/recog/faceid_player_playerNum_LNBGvsZJCZ_615.ts.txt'\n",
    "track_file = '/home/avs/Codes/PaddleDetection/output/LNBGvsZJCZ_615.txt'\n",
    "\n",
    "def read_face_file(face_file):\n",
    "    frame_2_face_list = {}\n",
    "    with open(face_txt, 'r') as fin:\n",
    "        for idx, line in enumerate(fin.readlines()):\n",
    "            frame_idx, x1, y1, x2, y2, face_id, score = line.split(\",\")\n",
    "            face_list = frame_2_face_list.get(frame_idx, [])\n",
    "            face_box = list(map(float, [face_id, x1, y1, x2, y2]))\n",
    "            face_list.append(face_box)\n",
    "            frame_2_face_list[frame_idx] = face_list\n",
    "    return frame_2_face_list\n",
    "\n",
    "def read_track_file(track_file):\n",
    "    frame_2_person_list = {}\n",
    "    person_2_frame2 = {}\n",
    "    with open(track_file, 'r') as fin:\n",
    "        for line in fin.readlines():\n",
    "            frame_idx, person_id, x, y, w, h, score, _, _, _ = line.split(\",\")\n",
    "            person_list = frame_2_person_list.get(frame_idx, [])\n",
    "            person_box = list(map(float, [person_id, x, y, w, h, score]))\n",
    "            person_list.append(person_box)\n",
    "            frame_2_person_list[frame_idx] = person_list\n",
    "    return frame_2_person_list\n",
    "        \n",
    "frame_2_face_list = read_face_file(face_txt)\n",
    "frame_2_person_list = read_track_file(track_file)\n",
    "\n",
    "idx = 0\n",
    "for frame_idx in frame_2_face_list:\n",
    "    idx += 1\n",
    "    if idx >= 10:\n",
    "        break\n",
    "    frame = cv2.imread('./datas/LNBGvsZJCZ_615.ts_imgs/{}.jpg'.format(frame_idx))\n",
    "    frame = cv2.cvtColor(frame, cv2.COLOR_BGR2RGB)\n",
    "    \n",
    "    face_list = frame_2_face_list[frame_idx]\n",
    "    face_id, x1, y1, x2, y2 = face_list[0]\n",
    "    \n",
    "    if frame_idx not in frame_2_person_list:\n",
    "        print(\"== ignore \", frame_idx)\n",
    "        continue\n",
    "    person_list = frame_2_person_list[frame_idx]\n",
    "    \n",
    "    \n",
    "    cv2.rectangle(frame, (int(x1),int(y1)), (int(x2),int(y2)), (0,255,0) , 2)\n",
    "    cv2.putText(frame, str(face_id), (int(x1-10),int(y1-10)), font, 1, (255,0,0), 3)\n",
    "\n",
    "    \n",
    "    font = cv2.FONT_HERSHEY_SIMPLEX\n",
    "    for person in person_list:\n",
    "        person_id = person[0]\n",
    "        person_x1, person_y1, person_w, person_h = person[1:5]\n",
    "        cv2.rectangle(frame, (int(person_x1),int(person_y1)), (int(person_x1+person_w),int(person_y1+person_h)), (0,0,255) , 2)\n",
    "        cv2.putText(frame, str(person_id), (int(person_x1-10),int(person_y1-10)), font, 1, (255,0,0), 3)\n",
    "    \n",
    "    im_show(frame)\n",
    "        "
   ]
  },
  {
   "cell_type": "code",
   "execution_count": null,
   "id": "68d6dc15",
   "metadata": {},
   "outputs": [],
   "source": []
  }
 ],
 "metadata": {
  "kernelspec": {
   "display_name": "Python 3 (ipykernel)",
   "language": "python",
   "name": "python3"
  },
  "language_info": {
   "codemirror_mode": {
    "name": "ipython",
    "version": 3
   },
   "file_extension": ".py",
   "mimetype": "text/x-python",
   "name": "python",
   "nbconvert_exporter": "python",
   "pygments_lexer": "ipython3",
   "version": "3.10.9"
  }
 },
 "nbformat": 4,
 "nbformat_minor": 5
}
