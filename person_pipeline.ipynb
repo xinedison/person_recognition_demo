{
 "cells": [
  {
   "cell_type": "code",
   "execution_count": null,
   "id": "7331a47c",
   "metadata": {},
   "outputs": [],
   "source": [
    "import cv2\n",
    "import sys\n",
    "import os\n",
    "import numpy as np\n",
    "import glob\n",
    "from cpu_searcher import numpy_searcher\n",
    "from clip_api import ClipFeat\n",
    "from reid_api import PersonFeat\n",
    "import insightface\n",
    "import time\n",
    "\n",
    "import matplotlib.pyplot as plt\n",
    "%matplotlib inline"
   ]
  },
  {
   "cell_type": "code",
   "execution_count": null,
   "id": "0fd696e9",
   "metadata": {},
   "outputs": [],
   "source": [
    "db_pathes = glob.glob(\"/home/avs/Codes/face_recognition/datas/arsenal_players/*/*.jpg\")"
   ]
  },
  {
   "cell_type": "code",
   "execution_count": null,
   "id": "f2d9c148",
   "metadata": {},
   "outputs": [],
   "source": [
    "def path_2_img_key(path):\n",
    "    img_name = os.path.basename(path)\n",
    "    player_name = os.path.basename(os.path.dirname(path))\n",
    "    return '{}+{}'.format(player_name, img_name)\n",
    "\n",
    "def read_image_to_data(image_path):\n",
    "    image_data = cv2.imread(image_path)\n",
    "    if image_data is None:\n",
    "        logging.error(\"== read invalid data \", image_path)\n",
    "        return\n",
    "    \n",
    "    image_data = cv2.cvtColor(image_data, cv2.COLOR_BGR2RGB)\n",
    "    return image_data\n",
    "\n",
    "def im_show(image):\n",
    "    plt.imshow(image)\n",
    "    plt.show()\n",
    "    \n",
    "\n",
    "def init_detector():\n",
    "    detector = insightface.model_zoo.get_model('scrfd_person_2.5g.onnx', download=True)\n",
    "    detector.prepare(0, nms_thresh=0.5, input_size=(640, 640))\n",
    "    return detector"
   ]
  },
  {
   "cell_type": "code",
   "execution_count": null,
   "id": "d77c5c04",
   "metadata": {},
   "outputs": [],
   "source": [
    "img_keys = map(path_2_img_key, db_pathes)\n",
    "img_datas = list(map(read_image_to_data, db_pathes))"
   ]
  },
  {
   "cell_type": "code",
   "execution_count": null,
   "id": "976ca27b",
   "metadata": {},
   "outputs": [],
   "source": [
    "searcher = numpy_searcher(1000, 512)\n",
    "clip_feat = ClipFeat()\n",
    "#feat_extractor = PersonFeat('./agw_r50.onnx')\n",
    "for img_data,img_key in zip(img_datas, img_keys):\n",
    "    person_feat = clip_feat.forward(img_data).cpu().numpy()[0].tolist()\n",
    "    #person_feat = feat_extractor.forward(img_data)[0].tolist()\n",
    "    #print(person_feat)\n",
    "    searcher.update(img_key, person_feat)"
   ]
  },
  {
   "cell_type": "code",
   "execution_count": null,
   "id": "0636ab80",
   "metadata": {
    "scrolled": false
   },
   "outputs": [],
   "source": [
    "detector = init_detector()\n",
    "\n",
    "img_path = './datas/00000023.jpg'\n",
    "\n",
    "def search_image(image, only_detect=False):\n",
    "    number_used_flags = {i:False for i in range(50)}\n",
    "    bboxes, _ = detector.detect(image)\n",
    "    out_image = image.copy()\n",
    "\n",
    "    for bbox in bboxes:\n",
    "        x1, y1, x2, y2, _ = bbox\n",
    "        person = image[int(y1):int(y2), int(x1):int(x2), :]\n",
    "        #im_show(person)\n",
    "        shape = person.shape\n",
    "        #print(\"== person shape\", person.shape)\n",
    "        if shape[0]>0 and shape[1] > 0:\n",
    "            cv2.rectangle(out_image, (int(x1),int(y1)), (int(x2),int(y2)), (0,255,0) , 1)\n",
    "            if only_detect:\n",
    "                continue\n",
    "            \n",
    "            test_feats = clip_feat.forward(person).cpu().numpy()\n",
    "            #test_feats = feat_extractor.forward(person)\n",
    "\n",
    "            topk_keys = searcher.topk(test_feats, topk=1)\n",
    "        #     print(\"== top result\", topk_keys)\n",
    "            searched_key, score = topk_keys[0][0]\n",
    "            #print(\"== searched key \", searched_key, score)\n",
    "            if score> 0.88:\n",
    "                print(\"== searched match\", topk_keys)\n",
    "                search_name = int(searched_key.split('+')[0])\n",
    "                if number_used_flags[search_name]:\n",
    "                    continue\n",
    "                \n",
    "                #print(\"==Matched  key \", searched_key, ' ', score)\n",
    "                font = cv2.FONT_HERSHEY_SIMPLEX\n",
    "                cv2.putText(out_image, str(search_name), (int(x1-10),int(y1-10)), font, 2, (255,0,0), 3)\n",
    "                number_used_flags[search_name] = True\n",
    "    #im_show(out_image)\n",
    "    return out_image\n",
    "\n",
    "# image_pathes = glob.glob(\"/home/avs/Codes/PaddleDetection/Arsenal_football_club/10037506_YBS_live55_rzzmtx_3min_cut.ts_imgs/*.jpg\")\n",
    "# dst_folder = \"./datas/arsenal_video\"\n",
    "# for img_path in image_pathes:\n",
    "#     image = cv2.imread(img_path)\n",
    "#     image_name = os.path.basename(img_path)\n",
    "#     #image = cv2.cvtColor(image, cv2.COLOR_BGR2RGB)\n",
    "#     searched_out = search_image(image)\n",
    "#     cv2.imwrite(os.path.join(dst_folder, image_name), searched_out)"
   ]
  },
  {
   "cell_type": "code",
   "execution_count": null,
   "id": "98cdefad",
   "metadata": {
    "scrolled": false
   },
   "outputs": [],
   "source": [
    "in_video = '/home/avs/Codes/PaddleDetection/Arsenal_football_club/10039251_YBS_live55_ikdntk_3min_cut.ts'\n",
    "basename = os.path.basename(in_video)\n",
    "output_video = os.path.join('./datas/recog', basename)\n",
    "\n",
    "reader = cv2.VideoCapture(in_video)\n",
    "writer = cv2.VideoWriter(output_video, cv2.VideoWriter_fourcc(*\"mp4v\"),30, (1920, 1080))\n",
    "\n",
    "more = True\n",
    "frame_id = -1\n",
    "interval = 50\n",
    "tic = time.time()\n",
    "while more:\n",
    "    more, frame = reader.read()\n",
    "    if frame is not None:\n",
    "        frame_id += 1\n",
    "        searched_out = search_image(frame)\n",
    "        if frame_id % interval == 0:\n",
    "            toc = time.time()\n",
    "            print(\"== frames speed\",interval/(toc-tic))\n",
    "            tic = time.time()\n",
    "            print(frame_id)\n",
    "        writer.write(searched_out)\n",
    "reader.release()\n",
    "writer.release()"
   ]
  },
  {
   "cell_type": "code",
   "execution_count": null,
   "id": "eb8d1ead",
   "metadata": {},
   "outputs": [],
   "source": []
  }
 ],
 "metadata": {
  "kernelspec": {
   "display_name": "Python 3 (ipykernel)",
   "language": "python",
   "name": "python3"
  },
  "language_info": {
   "codemirror_mode": {
    "name": "ipython",
    "version": 3
   },
   "file_extension": ".py",
   "mimetype": "text/x-python",
   "name": "python",
   "nbconvert_exporter": "python",
   "pygments_lexer": "ipython3",
   "version": "3.10.9"
  }
 },
 "nbformat": 4,
 "nbformat_minor": 5
}
